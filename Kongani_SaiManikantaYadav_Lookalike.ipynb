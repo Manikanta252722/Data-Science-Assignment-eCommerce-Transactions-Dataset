{
 "cells": [
  {
   "cell_type": "code",
   "execution_count": 1,
   "id": "58e94179",
   "metadata": {},
   "outputs": [],
   "source": [
    "import pandas as pd\n",
    "from sklearn.preprocessing import StandardScaler\n",
    "from sklearn.metrics.pairwise import cosine_similarity\n",
    "\n",
    "# Load datasets\n",
    "customers = pd.read_csv('Customers.csv')\n",
    "products = pd.read_csv('Products.csv')\n",
    "transactions = pd.read_csv('Transactions.csv')"
   ]
  },
  {
   "cell_type": "code",
   "execution_count": 2,
   "id": "46ab80b8",
   "metadata": {},
   "outputs": [],
   "source": [
    "# Merge datasets\n",
    "data = transactions.merge(customers, on='CustomerID').merge(products, on='ProductID')"
   ]
  },
  {
   "cell_type": "code",
   "execution_count": 3,
   "id": "152f2fad",
   "metadata": {},
   "outputs": [],
   "source": [
    "# Aggregate transaction data per customer\n",
    "customer_features = data.groupby('CustomerID').agg({\n",
    "    'TotalValue': 'sum',  # Total spending\n",
    "    'Quantity': 'sum',     # Total quantity purchased\n",
    "    'ProductID': 'nunique', # Unique products purchased\n",
    "    'Category': lambda x: x.mode()[0]  # Most purchased category\n",
    "}).reset_index()"
   ]
  },
  {
   "cell_type": "code",
   "execution_count": 4,
   "id": "ac908e28",
   "metadata": {},
   "outputs": [],
   "source": [
    "# Encode categorical variables\n",
    "customer_features = pd.get_dummies(customer_features, columns=['Category'], drop_first=True)\n",
    "\n"
   ]
  },
  {
   "cell_type": "code",
   "execution_count": 5,
   "id": "5f2adb09",
   "metadata": {},
   "outputs": [],
   "source": [
    "\n",
    "# Standardize features\n",
    "scaler = StandardScaler()\n",
    "customer_features_scaled = scaler.fit_transform(customer_features.drop(columns=['CustomerID']))\n",
    "\n"
   ]
  },
  {
   "cell_type": "code",
   "execution_count": 6,
   "id": "d1ce2ac7",
   "metadata": {},
   "outputs": [],
   "source": [
    "# Compute similarity matrix\n",
    "similarity_matrix = cosine_similarity(customer_features_scaled)\n"
   ]
  },
  {
   "cell_type": "code",
   "execution_count": 7,
   "id": "26029464",
   "metadata": {},
   "outputs": [],
   "source": [
    "# Create lookalike recommendations\n",
    "lookalike_dict = {}\n",
    "customer_ids = customer_features['CustomerID'].values\n",
    "\n",
    "for idx, customer_id in enumerate(customer_ids[:20]):  # First 20 customers\n",
    "    similar_indices = similarity_matrix[idx].argsort()[::-1][1:4]  # Top 3 similar\n",
    "    lookalike_dict[customer_id] = [(customer_ids[i], similarity_matrix[idx][i]) for i in similar_indices]\n",
    "\n"
   ]
  },
  {
   "cell_type": "code",
   "execution_count": 8,
   "id": "30595c66",
   "metadata": {},
   "outputs": [],
   "source": [
    "\n",
    "\n",
    "# Convert to DataFrame and save as CSV\n",
    "lookalike_df = pd.DataFrame.from_dict(lookalike_dict, orient='index')\n",
    "lookalike_df.to_csv('Lookalike.csv', header=False)"
   ]
  },
  {
   "cell_type": "code",
   "execution_count": null,
   "id": "72068cea",
   "metadata": {},
   "outputs": [],
   "source": []
  }
 ],
 "metadata": {
  "kernelspec": {
   "display_name": "Python 3 (ipykernel)",
   "language": "python",
   "name": "python3"
  },
  "language_info": {
   "codemirror_mode": {
    "name": "ipython",
    "version": 3
   },
   "file_extension": ".py",
   "mimetype": "text/x-python",
   "name": "python",
   "nbconvert_exporter": "python",
   "pygments_lexer": "ipython3",
   "version": "3.11.5"
  }
 },
 "nbformat": 4,
 "nbformat_minor": 5
}
